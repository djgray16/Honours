{
 "cells": [
  {
   "cell_type": "markdown",
   "id": "df5b6b64",
   "metadata": {},
   "source": [
    "### trying to do animation"
   ]
  },
  {
   "cell_type": "code",
   "execution_count": 1,
   "id": "7715ebf7",
   "metadata": {},
   "outputs": [],
   "source": [
    "\n",
    "import agentpy as ap\n",
    "import numpy as np\n",
    "import random as random\n",
    "import networkx as nx\n",
    "import IPython\n",
    "import matplotlib.pyplot as plt\n",
    "import seaborn as sns\n",
    "from TAG import *\n",
    "from Agents import *\n",
    "from Models import *"
   ]
  },
  {
   "cell_type": "code",
   "execution_count": 139,
   "id": "b693bfe0",
   "metadata": {},
   "outputs": [],
   "source": [
    "\n",
    "parameters = {\n",
    "    'seed':52,\n",
    "    'steps': 25, #number of time periods\n",
    "    'agent_n': 10,\n",
    "    'phi':1.5,#ap.Values(2.0,2.5,3.0,3.5), # #multiplier for common contributions\n",
    "    'graph_m' : 2,\n",
    "    'graph_alpha': 0,# ap.Values(0.01,0.1,0.25,0.5, 0.75,1.0),\n",
    "    'graph_p':0.3,#ap.Values(0.1,0.2,0.3,0.4,0.5),\n",
    "    'power_p': 0,#ap.Values(0.1, 0.2,0.3,0.4,0.5),#ap.Values(0.01,0.2,0.4,0.6,0.8),\n",
    "    'gtype': 'BA', #ap.Values('WS', 'TAG', 'BA', 'RRG'),\n",
    "    'atype': ReplicatorLocal,\n",
    "    'replicator_alpha': 1.0, #1 is pure replicator, 0 is imitation\n",
    "    'plot_G': 1, #gives the summary plot of the graph for each experiment\n",
    "    'step_reporting': 1,\n",
    "    'end_reporting':0\n",
    "}\n",
    "model = WealthModel(parameters)"
   ]
  },
  {
   "cell_type": "code",
   "execution_count": 140,
   "id": "dd08d2fb",
   "metadata": {},
   "outputs": [
    {
     "data": {
      "image/png": "[encoded data removed]",
      "text/plain": [
       "<Figure size 576x576 with 2 Axes>"
      ]
     },
     "metadata": {
      "needs_background": "light"
     },
     "output_type": "display_data"
    },
    {
     "name": "stdout",
     "output_type": "stream",
     "text": [
      "\r",
      "Completed: 1 steps\r",
      "Completed: 2 steps\r",
      "Completed: 3 steps\r",
      "Completed: 4 steps\r",
      "Completed: 5 steps\r",
      "Completed: 6 steps\r",
      "Completed: 7 steps\r",
      "Completed: 8 steps\r",
      "Completed: 9 steps\r",
      "Completed: 10 steps\r",
      "Completed: 11 steps\r",
      "Completed: 12 steps\r",
      "Completed: 13 steps\r",
      "Completed: 14 steps\r",
      "Completed: 15 steps\r",
      "Completed: 16 steps\r",
      "Completed: 17 steps\r",
      "Completed: 18 steps\r",
      "Completed: 19 steps\r",
      "Completed: 20 steps\r",
      "Completed: 21 steps\r",
      "Completed: 22 steps\r",
      "Completed: 23 steps\r",
      "Completed: 24 steps\r",
      "Completed: 25 steps\n",
      "Run time: 0:00:00.753713\n",
      "Simulation finished\n"
     ]
    }
   ],
   "source": [
    "results = model.run()\n"
   ]
  },
  {
   "cell_type": "code",
   "execution_count": 141,
   "id": "3687fe43",
   "metadata": {},
   "outputs": [],
   "source": [
    "results = model.output.variables.ReplicatorLocal\n",
    "n = results.groupby('t').count().contribute[0]"
   ]
  },
  {
   "cell_type": "code",
   "execution_count": 142,
   "id": "21073495",
   "metadata": {},
   "outputs": [
    {
     "data": {
      "text/plain": [
       "t\n",
       "0     4.0\n",
       "1     4.0\n",
       "2     4.0\n",
       "3     4.0\n",
       "4     4.0\n",
       "5     4.0\n",
       "6     4.0\n",
       "7     4.0\n",
       "8     4.0\n",
       "9     4.0\n",
       "10    4.0\n",
       "11    4.0\n",
       "12    4.0\n",
       "13    4.0\n",
       "14    4.0\n",
       "15    4.0\n",
       "16    4.0\n",
       "17    4.0\n",
       "18    4.0\n",
       "19    4.0\n",
       "20    4.0\n",
       "21    4.0\n",
       "22    4.0\n",
       "23    4.0\n",
       "24    4.0\n",
       "25    4.0\n",
       "Name: contribute, dtype: float64"
      ]
     },
     "execution_count": 142,
     "metadata": {},
     "output_type": "execute_result"
    }
   ],
   "source": [
    "n -results.groupby('t').contribute.mean()*parameters['agent_n']"
   ]
  },
  {
   "cell_type": "code",
   "execution_count": 143,
   "id": "fa96dac6",
   "metadata": {},
   "outputs": [],
   "source": [
    "def stackplot(results, ax):\n",
    "    n = results.groupby('t').count().contribute[0]\n",
    "    \n",
    "    contribute = results.groupby('t').contribute.mean()*n\n",
    "    x= contribute.index\n",
    "    defect = n-contribute\n",
    "    sns.set()\n",
    "    #fig, ax = plt.subplots()\n",
    "    ax.stackplot(x,contribute,defect, labels = ['con', 'defect'], colors = ['g', 'r'])\n",
    "    ax.set_xlim(0, max(1, len(x)-1))\n",
    "    ax.set_ylim(0, defect[0] + contribute[0])\n",
    "    ax.set_xlabel('Time')\n",
    "    ax.set_ylabel('Number of Agents')\n",
    "    #fig.suptitle('Stackplot')\n",
    "\n",
    "    \n",
    "def animation_plot(m, axs):\n",
    "    ax1, ax2 = axs\n",
    "    ax1.set_title('Stackplot')\n",
    "    #prop = \n",
    "    ax2.set_title('Graph Contributing')\n",
    "    stackplot(m.output.variables.ReplicatorLocal, ax1)\n",
    "    \n",
    "    color_dict = {0: 'r', 1: 'g'}\n",
    "    #print(m.agents.contribute)\n",
    "    colors = [color_dict[c] for c in m.agents.contribute]\n",
    "    #print(m.network.graph)\n",
    "    nx.draw_circular(m.network.graph, node_color = colors, node_size = 150, ax = ax2)"
   ]
  },
  {
   "cell_type": "code",
   "execution_count": 144,
   "id": "baa6bc57",
   "metadata": {},
   "outputs": [
    {
     "data": {
      "image/png": "[encoded data removed]",
      "text/plain": [
       "<Figure size 864x432 with 2 Axes>"
      ]
     },
     "metadata": {
      "needs_background": "light"
     },
     "output_type": "display_data"
    },
    {
     "data": {
      "image/png": "[encoded data removed]",
      "text/plain": [
       "<Figure size 576x576 with 2 Axes>"
      ]
     },
     "metadata": {
      "needs_background": "light"
     },
     "output_type": "display_data"
    }
   ],
   "source": [
    "fig, axs = plt.subplots(1,2,figsize = (12,6))\n",
    "animation = ap.animate(WealthModel(parameters), fig, axs, animation_plot, interval = 800)"
   ]
  },
  {
   "cell_type": "code",
   "execution_count": null,
   "id": "144823e2",
   "metadata": {},
   "outputs": [],
   "source": [
    "IPython.display.HTML(animation.to_jshtml())"
   ]
  },
  {
   "cell_type": "code",
   "execution_count": null,
   "id": "16c35a1c",
   "metadata": {},
   "outputs": [],
   "source": [
    "model.output.variables.ReplicatorLocal"
   ]
  },
  {
   "cell_type": "code",
   "execution_count": null,
   "id": "178446ab",
   "metadata": {},
   "outputs": [],
   "source": []
  }
 ],
 "metadata": {
  "kernelspec": {
   "display_name": "Python 3 (ipykernel)",
   "language": "python",
   "name": "python3"
  },
  "language_info": {
   "codemirror_mode": {
    "name": "ipython",
    "version": 3
   },
   "file_extension": ".py",
   "mimetype": "text/x-python",
   "name": "python",
   "nbconvert_exporter": "python",
   "pygments_lexer": "ipython3",
   "version": "3.8.8"
  }
 },
 "nbformat": 4,
 "nbformat_minor": 5
}
